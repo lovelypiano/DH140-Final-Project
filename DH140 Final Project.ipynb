{
 "cells": [
  {
   "cell_type": "markdown",
   "id": "4462515d",
   "metadata": {},
   "source": [
    "# Introduction"
   ]
  },
  {
   "cell_type": "markdown",
   "id": "547d81d8",
   "metadata": {},
   "source": [
    "My final project dataset is the book \"Pride and Prejudice\" written by Jane Austen. The data is a text file "
   ]
  },
  {
   "cell_type": "markdown",
   "id": "16444a2d",
   "metadata": {},
   "source": [
    "# Exploring the Data"
   ]
  },
  {
   "cell_type": "markdown",
   "id": "23dd8797",
   "metadata": {},
   "source": [
    "Description"
   ]
  },
  {
   "cell_type": "code",
   "execution_count": 3,
   "id": "5f165fa0",
   "metadata": {},
   "outputs": [],
   "source": [
    "# Data Visualization 1"
   ]
  },
  {
   "cell_type": "code",
   "execution_count": 4,
   "id": "cbf89914",
   "metadata": {},
   "outputs": [],
   "source": [
    "# Data Visualization 2"
   ]
  },
  {
   "cell_type": "code",
   "execution_count": 5,
   "id": "e0428117",
   "metadata": {},
   "outputs": [],
   "source": [
    "# Data Visualization 3"
   ]
  },
  {
   "cell_type": "code",
   "execution_count": 6,
   "id": "432fa56a",
   "metadata": {},
   "outputs": [],
   "source": [
    "# Data Visualization 4"
   ]
  },
  {
   "cell_type": "markdown",
   "id": "ce179a5e",
   "metadata": {},
   "source": [
    "# Analysis"
   ]
  },
  {
   "cell_type": "markdown",
   "id": "100d38e5",
   "metadata": {},
   "source": [
    "Describe additional 4 data visualizations"
   ]
  }
 ],
 "metadata": {
  "kernelspec": {
   "display_name": "Python 3 (ipykernel)",
   "language": "python",
   "name": "python3"
  },
  "language_info": {
   "codemirror_mode": {
    "name": "ipython",
    "version": 3
   },
   "file_extension": ".py",
   "mimetype": "text/x-python",
   "name": "python",
   "nbconvert_exporter": "python",
   "pygments_lexer": "ipython3",
   "version": "3.10.11"
  }
 },
 "nbformat": 4,
 "nbformat_minor": 5
}
